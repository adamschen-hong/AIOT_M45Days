{
 "cells": [
  {
   "cell_type": "markdown",
   "id": "casual-uniform",
   "metadata": {},
   "source": [
    "# 作業： 使用 Python 操作 MongoDB"
   ]
  },
  {
   "cell_type": "markdown",
   "id": "immediate-positive",
   "metadata": {},
   "source": [
    "[作業目標]\n",
    "能夠使用 Python 對 MongoDB 的資料進行增刪改查操作。\n",
    "使用 Robo 3T 工具查看資料。"
   ]
  },
  {
   "cell_type": "markdown",
   "id": "brutal-running",
   "metadata": {},
   "source": [
    "[作業重點]\n",
    "執行程式前，MongoDB Server 記得要先開啟。\n",
    "若 DB、Collection 原本不存在，則直到有第一筆資料 insert 進去，才會真的建立 DB 及 Collection"
   ]
  },
  {
   "cell_type": "markdown",
   "id": "steady-monitor",
   "metadata": {},
   "source": [
    "作業1\n",
    "建立 DB 及 Collection (名稱自訂)，使用 Python 取得連線。"
   ]
  },
  {
   "cell_type": "code",
   "execution_count": 42,
   "id": "logical-certification",
   "metadata": {},
   "outputs": [],
   "source": [
    "from pymongo import MongoClient"
   ]
  },
  {
   "cell_type": "code",
   "execution_count": 43,
   "id": "collective-latter",
   "metadata": {},
   "outputs": [],
   "source": [
    "client = MongoClient(host='127.0.0.1',port=27017)"
   ]
  },
  {
   "cell_type": "code",
   "execution_count": 44,
   "id": "miniature-channel",
   "metadata": {},
   "outputs": [],
   "source": [
    "db = client['test'] #連接資料庫 "
   ]
  },
  {
   "cell_type": "code",
   "execution_count": 45,
   "id": "addressed-short",
   "metadata": {},
   "outputs": [],
   "source": [
    "collection = db['member'] #指定集合"
   ]
  },
  {
   "cell_type": "markdown",
   "id": "atomic-fellow",
   "metadata": {},
   "source": [
    "作業2\n",
    "使用 Python 操作 Mongo 中的資料。"
   ]
  },
  {
   "cell_type": "code",
   "execution_count": 27,
   "id": "neural-letters",
   "metadata": {},
   "outputs": [],
   "source": [
    "mydata = {'name': 'Kevin', 'phone': '0912345678', 'email': 'test@gmail.com'}"
   ]
  },
  {
   "cell_type": "code",
   "execution_count": 28,
   "id": "pending-improvement",
   "metadata": {},
   "outputs": [],
   "source": [
    "result = collection.insert_one(mydata)"
   ]
  },
  {
   "cell_type": "code",
   "execution_count": 29,
   "id": "present-funds",
   "metadata": {},
   "outputs": [
    {
     "name": "stdout",
     "output_type": "stream",
     "text": [
      "60cbf4c5421f374142509602\n"
     ]
    }
   ],
   "source": [
    "print(result.inserted_id)"
   ]
  },
  {
   "cell_type": "code",
   "execution_count": 30,
   "id": "insured-catering",
   "metadata": {},
   "outputs": [],
   "source": [
    "data_list = [\n",
    "    {'name': 'Kitty', 'phone': '0987654321', 'email': 'kitty@gmail.com'},\n",
    "    {'name': 'Michael', 'phone': '0912345678', 'email': 'michael@gmail.com'},\n",
    "    {'name': 'Adams', 'phone': '0987654321', 'email': 'adamskitty@gmail.com'}    \n",
    "]"
   ]
  },
  {
   "cell_type": "code",
   "execution_count": 31,
   "id": "noted-feeding",
   "metadata": {},
   "outputs": [],
   "source": [
    "result = collection.insert_many(data_list)"
   ]
  },
  {
   "cell_type": "code",
   "execution_count": 32,
   "id": "parental-communication",
   "metadata": {},
   "outputs": [
    {
     "data": {
      "text/plain": [
       "[ObjectId('60cbf4ca421f374142509603'),\n",
       " ObjectId('60cbf4ca421f374142509604'),\n",
       " ObjectId('60cbf4ca421f374142509605')]"
      ]
     },
     "execution_count": 32,
     "metadata": {},
     "output_type": "execute_result"
    }
   ],
   "source": [
    "result.inserted_ids"
   ]
  },
  {
   "cell_type": "code",
   "execution_count": 35,
   "id": "progressive-darwin",
   "metadata": {},
   "outputs": [
    {
     "data": {
      "text/plain": [
       "4"
      ]
     },
     "execution_count": 35,
     "metadata": {},
     "output_type": "execute_result"
    }
   ],
   "source": [
    "collection.count_documents({})"
   ]
  },
  {
   "cell_type": "code",
   "execution_count": 34,
   "id": "wicked-friendly",
   "metadata": {},
   "outputs": [
    {
     "data": {
      "text/plain": [
       "<pymongo.results.DeleteResult at 0x2b011a9c688>"
      ]
     },
     "execution_count": 34,
     "metadata": {},
     "output_type": "execute_result"
    }
   ],
   "source": [
    "collection.delete_one({'name': 'Kevin'})"
   ]
  },
  {
   "cell_type": "code",
   "execution_count": 37,
   "id": "dedicated-balloon",
   "metadata": {},
   "outputs": [
    {
     "data": {
      "text/plain": [
       "<pymongo.results.UpdateResult at 0x2b011e78108>"
      ]
     },
     "execution_count": 37,
     "metadata": {},
     "output_type": "execute_result"
    }
   ],
   "source": [
    "#過濾條件\n",
    "filter_ = {'name': 'Kevin'} \n",
    "\n",
    "#要改什麼資料\n",
    "update_ = {\"$set\": {'name': \"Green\"}}\n",
    "\n",
    "#呼叫 update_one函式 並傳入上面兩個參數\n",
    "\n",
    "collection.update_one(filter_, update_)"
   ]
  },
  {
   "cell_type": "code",
   "execution_count": 38,
   "id": "interior-theorem",
   "metadata": {},
   "outputs": [
    {
     "data": {
      "text/plain": [
       "<pymongo.results.UpdateResult at 0x2b011e78148>"
      ]
     },
     "execution_count": 38,
     "metadata": {},
     "output_type": "execute_result"
    }
   ],
   "source": [
    "#過濾條件\n",
    "filter_ = {'name': 'Green'} \n",
    "\n",
    "#要改什麼資料\n",
    "update_ = {\"$set\": {'name': \"Kevin\"}}\n",
    "\n",
    "#呼叫 update_one函式 並傳入上面兩個參數\n",
    "\n",
    "\n",
    "collection.update_many(filter_, update_)"
   ]
  },
  {
   "cell_type": "code",
   "execution_count": 39,
   "id": "double-blond",
   "metadata": {},
   "outputs": [],
   "source": [
    "result = collection.find_one({})"
   ]
  },
  {
   "cell_type": "code",
   "execution_count": 40,
   "id": "aquatic-amsterdam",
   "metadata": {},
   "outputs": [
    {
     "data": {
      "text/plain": [
       "{'_id': ObjectId('60cbf4c5421f374142509602'),\n",
       " 'name': 'Kevin',\n",
       " 'phone': '0912345678',\n",
       " 'email': 'test@gmail.com'}"
      ]
     },
     "execution_count": 40,
     "metadata": {},
     "output_type": "execute_result"
    }
   ],
   "source": [
    "result"
   ]
  },
  {
   "cell_type": "code",
   "execution_count": 48,
   "id": "collectible-transport",
   "metadata": {},
   "outputs": [
    {
     "name": "stdout",
     "output_type": "stream",
     "text": [
      "{'_id': ObjectId('60cbf4c5421f374142509602'), 'name': 'Kevin', 'phone': '0912345678', 'email': 'test@gmail.com'}\n",
      "{'_id': ObjectId('60cbf4ca421f374142509603'), 'name': 'Kitty', 'phone': '0987654321', 'email': 'kitty@gmail.com'}\n",
      "{'_id': ObjectId('60cbf4ca421f374142509604'), 'name': 'Michael', 'phone': '0912345678', 'email': 'michael@gmail.com'}\n",
      "{'_id': ObjectId('60cbf4ca421f374142509605'), 'name': 'Adams', 'phone': '0987654321', 'email': 'adamskitty@gmail.com'}\n"
     ]
    }
   ],
   "source": [
    "result = collection.find()\n",
    "\n",
    "for x in result:\n",
    "    print(x)"
   ]
  },
  {
   "cell_type": "code",
   "execution_count": 52,
   "id": "italic-spell",
   "metadata": {},
   "outputs": [
    {
     "name": "stdout",
     "output_type": "stream",
     "text": [
      "{'_id': ObjectId('60cbf4ca421f374142509605'), 'name': 'Adams', 'phone': '0987654321', 'email': 'adamskitty@gmail.com'}\n",
      "{'_id': ObjectId('60cbf4c5421f374142509602'), 'name': 'Kevin', 'phone': '0912345678', 'email': 'test@gmail.com'}\n",
      "{'_id': ObjectId('60cbf4ca421f374142509603'), 'name': 'Kitty', 'phone': '0987654321', 'email': 'kitty@gmail.com'}\n",
      "{'_id': ObjectId('60cbf4ca421f374142509604'), 'name': 'Michael', 'phone': '0912345678', 'email': 'michael@gmail.com'}\n"
     ]
    }
   ],
   "source": [
    "result = collection.find().sort('name', 1)\n",
    "\n",
    "for x in result:\n",
    "    print(x)"
   ]
  },
  {
   "cell_type": "code",
   "execution_count": 55,
   "id": "intelligent-stephen",
   "metadata": {},
   "outputs": [
    {
     "name": "stdout",
     "output_type": "stream",
     "text": [
      "{'_id': ObjectId('60cbf4c5421f374142509602'), 'name': 'Kevin', 'phone': '0912345678', 'email': 'test@gmail.com'}\n",
      "{'_id': ObjectId('60cbf4ca421f374142509603'), 'name': 'Kitty', 'phone': '0987654321', 'email': 'kitty@gmail.com'}\n",
      "{'_id': ObjectId('60cbf4ca421f374142509604'), 'name': 'Michael', 'phone': '0912345678', 'email': 'michael@gmail.com'}\n"
     ]
    }
   ],
   "source": [
    "result = collection.find().limit(3) #限制最多找3筆\n",
    "\n",
    "for x in result:\n",
    "    print(x)"
   ]
  }
 ],
 "metadata": {
  "kernelspec": {
   "display_name": "Python 3",
   "language": "python",
   "name": "python3"
  },
  "language_info": {
   "codemirror_mode": {
    "name": "ipython",
    "version": 3
   },
   "file_extension": ".py",
   "mimetype": "text/x-python",
   "name": "python",
   "nbconvert_exporter": "python",
   "pygments_lexer": "ipython3",
   "version": "3.7.1"
  }
 },
 "nbformat": 4,
 "nbformat_minor": 5
}
